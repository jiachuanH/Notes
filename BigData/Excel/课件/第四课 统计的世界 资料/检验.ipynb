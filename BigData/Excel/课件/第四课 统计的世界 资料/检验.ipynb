{
 "cells": [
  {
   "cell_type": "markdown",
   "id": "d5765996",
   "metadata": {},
   "source": [
    "# 相关性检验"
   ]
  },
  {
   "cell_type": "code",
   "execution_count": 68,
   "id": "d23ed73f",
   "metadata": {},
   "outputs": [],
   "source": [
    "from scipy import stats\n",
    "# 导入统计的包"
   ]
  },
  {
   "cell_type": "code",
   "execution_count": 10,
   "id": "47a8b902",
   "metadata": {},
   "outputs": [],
   "source": [
    "ob_matrix =[[527,72],[206,102]]\n",
    "# 真实矩阵"
   ]
  },
  {
   "cell_type": "code",
   "execution_count": 69,
   "id": "fa447341",
   "metadata": {},
   "outputs": [
    {
     "data": {
      "text/plain": [
       "(38.23048480092454,\n",
       " 6.286262627068774e-10,\n",
       " 1,\n",
       " array([[391.40892193, 107.59107807],\n",
       "        [241.59107807,  66.40892193]]))"
      ]
     },
     "execution_count": 69,
     "metadata": {},
     "output_type": "execute_result"
    }
   ],
   "source": [
    "stats.chi2_contingency(ob_matrix)"
   ]
  },
  {
   "cell_type": "code",
   "execution_count": 11,
   "id": "23c83eb6",
   "metadata": {},
   "outputs": [],
   "source": [
    "chi_x = stats.chi2_contingency(ob_matrix)"
   ]
  },
  {
   "cell_type": "code",
   "execution_count": 12,
   "id": "16b0c48a",
   "metadata": {},
   "outputs": [
    {
     "data": {
      "text/plain": [
       "(38.23048480092454,\n",
       " 6.286262627068774e-10,\n",
       " 1,\n",
       " array([[391.40892193, 107.59107807],\n",
       "        [241.59107807,  66.40892193]]))"
      ]
     },
     "execution_count": 12,
     "metadata": {},
     "output_type": "execute_result"
    }
   ],
   "source": [
    "chi_x\n",
    "# 1.卡方值 2. P值 3.自由度 4.理论矩阵\n",
    "#  卡方值理论值\n",
    "# 卡方值大：相关性大\n",
    "# p值大小，不相关的概率，H0的概率。"
   ]
  },
  {
   "cell_type": "code",
   "execution_count": 14,
   "id": "c9a55491",
   "metadata": {},
   "outputs": [],
   "source": [
    "import pandas as pd "
   ]
  },
  {
   "cell_type": "code",
   "execution_count": 17,
   "id": "946f0d44",
   "metadata": {},
   "outputs": [],
   "source": [
    "df = pd.read_excel(r'城市污染数据.xlsx')"
   ]
  },
  {
   "cell_type": "code",
   "execution_count": 71,
   "id": "0706c677",
   "metadata": {},
   "outputs": [
    {
     "data": {
      "text/html": [
       "<div>\n",
       "<style scoped>\n",
       "    .dataframe tbody tr th:only-of-type {\n",
       "        vertical-align: middle;\n",
       "    }\n",
       "\n",
       "    .dataframe tbody tr th {\n",
       "        vertical-align: top;\n",
       "    }\n",
       "\n",
       "    .dataframe thead th {\n",
       "        text-align: right;\n",
       "    }\n",
       "</style>\n",
       "<table border=\"1\" class=\"dataframe\">\n",
       "  <thead>\n",
       "    <tr style=\"text-align: right;\">\n",
       "      <th></th>\n",
       "      <th>城市</th>\n",
       "      <th>月份</th>\n",
       "      <th>AQI</th>\n",
       "      <th>范围</th>\n",
       "      <th>质量等级</th>\n",
       "      <th>PM2.5</th>\n",
       "      <th>PM10</th>\n",
       "      <th>SO2</th>\n",
       "      <th>CO</th>\n",
       "      <th>NO2</th>\n",
       "      <th>O3</th>\n",
       "      <th>排名</th>\n",
       "    </tr>\n",
       "  </thead>\n",
       "  <tbody>\n",
       "    <tr>\n",
       "      <th>0</th>\n",
       "      <td>北京</td>\n",
       "      <td>2013-12-01</td>\n",
       "      <td>100</td>\n",
       "      <td>23~291</td>\n",
       "      <td>轻度污染</td>\n",
       "      <td>73.4</td>\n",
       "      <td>97.0</td>\n",
       "      <td>37.1</td>\n",
       "      <td>1.727</td>\n",
       "      <td>56.0</td>\n",
       "      <td>37.7</td>\n",
       "      <td>32</td>\n",
       "    </tr>\n",
       "    <tr>\n",
       "      <th>1</th>\n",
       "      <td>北京</td>\n",
       "      <td>2014-01-01</td>\n",
       "      <td>125</td>\n",
       "      <td>26~402</td>\n",
       "      <td>轻度污染</td>\n",
       "      <td>93.8</td>\n",
       "      <td>122.8</td>\n",
       "      <td>51.3</td>\n",
       "      <td>1.954</td>\n",
       "      <td>65.0</td>\n",
       "      <td>36.6</td>\n",
       "      <td>80</td>\n",
       "    </tr>\n",
       "    <tr>\n",
       "      <th>2</th>\n",
       "      <td>北京</td>\n",
       "      <td>2014-02-01</td>\n",
       "      <td>184</td>\n",
       "      <td>33~428</td>\n",
       "      <td>中度污染</td>\n",
       "      <td>148.4</td>\n",
       "      <td>155.4</td>\n",
       "      <td>56.4</td>\n",
       "      <td>2.165</td>\n",
       "      <td>68.6</td>\n",
       "      <td>41.5</td>\n",
       "      <td>137</td>\n",
       "    </tr>\n",
       "    <tr>\n",
       "      <th>3</th>\n",
       "      <td>北京</td>\n",
       "      <td>2014-03-01</td>\n",
       "      <td>130</td>\n",
       "      <td>35~319</td>\n",
       "      <td>轻度污染</td>\n",
       "      <td>93.6</td>\n",
       "      <td>137.7</td>\n",
       "      <td>33.7</td>\n",
       "      <td>1.378</td>\n",
       "      <td>62.3</td>\n",
       "      <td>82.9</td>\n",
       "      <td>109</td>\n",
       "    </tr>\n",
       "    <tr>\n",
       "      <th>4</th>\n",
       "      <td>北京</td>\n",
       "      <td>2014-04-01</td>\n",
       "      <td>127</td>\n",
       "      <td>65~279</td>\n",
       "      <td>轻度污染</td>\n",
       "      <td>88.6</td>\n",
       "      <td>144.7</td>\n",
       "      <td>16.3</td>\n",
       "      <td>0.922</td>\n",
       "      <td>57.4</td>\n",
       "      <td>129.0</td>\n",
       "      <td>145</td>\n",
       "    </tr>\n",
       "  </tbody>\n",
       "</table>\n",
       "</div>"
      ],
      "text/plain": [
       "   城市         月份  AQI      范围  质量等级  PM2.5   PM10   SO2     CO   NO2     O3  \\\n",
       "0  北京 2013-12-01  100  23~291  轻度污染   73.4   97.0  37.1  1.727  56.0   37.7   \n",
       "1  北京 2014-01-01  125  26~402  轻度污染   93.8  122.8  51.3  1.954  65.0   36.6   \n",
       "2  北京 2014-02-01  184  33~428  中度污染  148.4  155.4  56.4  2.165  68.6   41.5   \n",
       "3  北京 2014-03-01  130  35~319  轻度污染   93.6  137.7  33.7  1.378  62.3   82.9   \n",
       "4  北京 2014-04-01  127  65~279  轻度污染   88.6  144.7  16.3  0.922  57.4  129.0   \n",
       "\n",
       "    排名  \n",
       "0   32  \n",
       "1   80  \n",
       "2  137  \n",
       "3  109  \n",
       "4  145  "
      ]
     },
     "execution_count": 71,
     "metadata": {},
     "output_type": "execute_result"
    }
   ],
   "source": [
    "df.head()"
   ]
  },
  {
   "cell_type": "code",
   "execution_count": 76,
   "id": "bba5474c",
   "metadata": {},
   "outputs": [
    {
     "data": {
      "text/html": [
       "<div>\n",
       "<style scoped>\n",
       "    .dataframe tbody tr th:only-of-type {\n",
       "        vertical-align: middle;\n",
       "    }\n",
       "\n",
       "    .dataframe tbody tr th {\n",
       "        vertical-align: top;\n",
       "    }\n",
       "\n",
       "    .dataframe thead th {\n",
       "        text-align: right;\n",
       "    }\n",
       "</style>\n",
       "<table border=\"1\" class=\"dataframe\">\n",
       "  <thead>\n",
       "    <tr style=\"text-align: right;\">\n",
       "      <th></th>\n",
       "      <th>AQI</th>\n",
       "      <th>PM2.5</th>\n",
       "      <th>PM10</th>\n",
       "      <th>SO2</th>\n",
       "      <th>CO</th>\n",
       "      <th>NO2</th>\n",
       "      <th>O3</th>\n",
       "      <th>排名</th>\n",
       "    </tr>\n",
       "  </thead>\n",
       "  <tbody>\n",
       "    <tr>\n",
       "      <th>AQI</th>\n",
       "      <td>1.000000</td>\n",
       "      <td>0.879000</td>\n",
       "      <td>0.851075</td>\n",
       "      <td>0.641310</td>\n",
       "      <td>0.542684</td>\n",
       "      <td>0.664207</td>\n",
       "      <td>-0.141002</td>\n",
       "      <td>0.401664</td>\n",
       "    </tr>\n",
       "    <tr>\n",
       "      <th>PM2.5</th>\n",
       "      <td>0.879000</td>\n",
       "      <td>1.000000</td>\n",
       "      <td>0.906207</td>\n",
       "      <td>0.747762</td>\n",
       "      <td>0.652902</td>\n",
       "      <td>0.788938</td>\n",
       "      <td>-0.403313</td>\n",
       "      <td>0.136692</td>\n",
       "    </tr>\n",
       "    <tr>\n",
       "      <th>PM10</th>\n",
       "      <td>0.851075</td>\n",
       "      <td>0.906207</td>\n",
       "      <td>1.000000</td>\n",
       "      <td>0.763120</td>\n",
       "      <td>0.695834</td>\n",
       "      <td>0.754422</td>\n",
       "      <td>-0.341607</td>\n",
       "      <td>0.217063</td>\n",
       "    </tr>\n",
       "    <tr>\n",
       "      <th>SO2</th>\n",
       "      <td>0.641310</td>\n",
       "      <td>0.747762</td>\n",
       "      <td>0.763120</td>\n",
       "      <td>1.000000</td>\n",
       "      <td>0.643896</td>\n",
       "      <td>0.733966</td>\n",
       "      <td>-0.454605</td>\n",
       "      <td>0.002095</td>\n",
       "    </tr>\n",
       "    <tr>\n",
       "      <th>CO</th>\n",
       "      <td>0.542684</td>\n",
       "      <td>0.652902</td>\n",
       "      <td>0.695834</td>\n",
       "      <td>0.643896</td>\n",
       "      <td>1.000000</td>\n",
       "      <td>0.614527</td>\n",
       "      <td>-0.618209</td>\n",
       "      <td>0.016754</td>\n",
       "    </tr>\n",
       "    <tr>\n",
       "      <th>NO2</th>\n",
       "      <td>0.664207</td>\n",
       "      <td>0.788938</td>\n",
       "      <td>0.754422</td>\n",
       "      <td>0.733966</td>\n",
       "      <td>0.614527</td>\n",
       "      <td>1.000000</td>\n",
       "      <td>-0.485238</td>\n",
       "      <td>0.065883</td>\n",
       "    </tr>\n",
       "    <tr>\n",
       "      <th>O3</th>\n",
       "      <td>-0.141002</td>\n",
       "      <td>-0.403313</td>\n",
       "      <td>-0.341607</td>\n",
       "      <td>-0.454605</td>\n",
       "      <td>-0.618209</td>\n",
       "      <td>-0.485238</td>\n",
       "      <td>1.000000</td>\n",
       "      <td>0.330988</td>\n",
       "    </tr>\n",
       "    <tr>\n",
       "      <th>排名</th>\n",
       "      <td>0.401664</td>\n",
       "      <td>0.136692</td>\n",
       "      <td>0.217063</td>\n",
       "      <td>0.002095</td>\n",
       "      <td>0.016754</td>\n",
       "      <td>0.065883</td>\n",
       "      <td>0.330988</td>\n",
       "      <td>1.000000</td>\n",
       "    </tr>\n",
       "  </tbody>\n",
       "</table>\n",
       "</div>"
      ],
      "text/plain": [
       "            AQI     PM2.5      PM10       SO2        CO       NO2        O3  \\\n",
       "AQI    1.000000  0.879000  0.851075  0.641310  0.542684  0.664207 -0.141002   \n",
       "PM2.5  0.879000  1.000000  0.906207  0.747762  0.652902  0.788938 -0.403313   \n",
       "PM10   0.851075  0.906207  1.000000  0.763120  0.695834  0.754422 -0.341607   \n",
       "SO2    0.641310  0.747762  0.763120  1.000000  0.643896  0.733966 -0.454605   \n",
       "CO     0.542684  0.652902  0.695834  0.643896  1.000000  0.614527 -0.618209   \n",
       "NO2    0.664207  0.788938  0.754422  0.733966  0.614527  1.000000 -0.485238   \n",
       "O3    -0.141002 -0.403313 -0.341607 -0.454605 -0.618209 -0.485238  1.000000   \n",
       "排名     0.401664  0.136692  0.217063  0.002095  0.016754  0.065883  0.330988   \n",
       "\n",
       "             排名  \n",
       "AQI    0.401664  \n",
       "PM2.5  0.136692  \n",
       "PM10   0.217063  \n",
       "SO2    0.002095  \n",
       "CO     0.016754  \n",
       "NO2    0.065883  \n",
       "O3     0.330988  \n",
       "排名     1.000000  "
      ]
     },
     "execution_count": 76,
     "metadata": {},
     "output_type": "execute_result"
    }
   ],
   "source": [
    "df.corr(method= 'spearman')\n",
    "df.corr(method= 'pearson')"
   ]
  },
  {
   "cell_type": "code",
   "execution_count": 77,
   "id": "ec45e80f",
   "metadata": {},
   "outputs": [],
   "source": [
    "import seaborn as sns"
   ]
  },
  {
   "cell_type": "code",
   "execution_count": 80,
   "id": "3d76526f",
   "metadata": {},
   "outputs": [
    {
     "name": "stderr",
     "output_type": "stream",
     "text": [
      "D:\\Apps\\miniconda\\lib\\site-packages\\matplotlib\\backends\\backend_agg.py:240: RuntimeWarning: Glyph 25490 missing from current font.\n",
      "  font.set_text(s, 0.0, flags=flags)\n",
      "D:\\Apps\\miniconda\\lib\\site-packages\\matplotlib\\backends\\backend_agg.py:240: RuntimeWarning: Glyph 21517 missing from current font.\n",
      "  font.set_text(s, 0.0, flags=flags)\n",
      "D:\\Apps\\miniconda\\lib\\site-packages\\matplotlib\\backends\\backend_agg.py:203: RuntimeWarning: Glyph 25490 missing from current font.\n",
      "  font.set_text(s, 0, flags=flags)\n",
      "D:\\Apps\\miniconda\\lib\\site-packages\\matplotlib\\backends\\backend_agg.py:203: RuntimeWarning: Glyph 21517 missing from current font.\n",
      "  font.set_text(s, 0, flags=flags)\n"
     ]
    },
    {
     "data": {
      "text/plain": [
       "<AxesSubplot:>"
      ]
     },
     "execution_count": 80,
     "metadata": {},
     "output_type": "execute_result"
    },
    {
     "data": {
      "image/png": "[encoded data removed]",
      "text/plain": [
       "<Figure size 432x288 with 2 Axes>"
      ]
     },
     "metadata": {
      "needs_background": "light"
     },
     "output_type": "display_data"
    }
   ],
   "source": [
    "sns.heatmap(df.corr(method= 'spearman'),cmap = 'ocean',center= 0)"
   ]
  },
  {
   "cell_type": "code",
   "execution_count": 22,
   "id": "837314ad",
   "metadata": {},
   "outputs": [
    {
     "data": {
      "text/html": [
       "<div>\n",
       "<style scoped>\n",
       "    .dataframe tbody tr th:only-of-type {\n",
       "        vertical-align: middle;\n",
       "    }\n",
       "\n",
       "    .dataframe tbody tr th {\n",
       "        vertical-align: top;\n",
       "    }\n",
       "\n",
       "    .dataframe thead th {\n",
       "        text-align: right;\n",
       "    }\n",
       "</style>\n",
       "<table border=\"1\" class=\"dataframe\">\n",
       "  <thead>\n",
       "    <tr style=\"text-align: right;\">\n",
       "      <th></th>\n",
       "      <th>AQI</th>\n",
       "      <th>PM2.5</th>\n",
       "      <th>PM10</th>\n",
       "      <th>SO2</th>\n",
       "      <th>CO</th>\n",
       "      <th>NO2</th>\n",
       "      <th>O3</th>\n",
       "      <th>排名</th>\n",
       "    </tr>\n",
       "  </thead>\n",
       "  <tbody>\n",
       "    <tr>\n",
       "      <th>AQI</th>\n",
       "      <td>1.000000</td>\n",
       "      <td>0.937052</td>\n",
       "      <td>0.870595</td>\n",
       "      <td>0.644378</td>\n",
       "      <td>0.637549</td>\n",
       "      <td>0.716363</td>\n",
       "      <td>-0.199593</td>\n",
       "      <td>0.282194</td>\n",
       "    </tr>\n",
       "    <tr>\n",
       "      <th>PM2.5</th>\n",
       "      <td>0.937052</td>\n",
       "      <td>1.000000</td>\n",
       "      <td>0.897455</td>\n",
       "      <td>0.697911</td>\n",
       "      <td>0.697550</td>\n",
       "      <td>0.805230</td>\n",
       "      <td>-0.440756</td>\n",
       "      <td>0.072403</td>\n",
       "    </tr>\n",
       "    <tr>\n",
       "      <th>PM10</th>\n",
       "      <td>0.870595</td>\n",
       "      <td>0.897455</td>\n",
       "      <td>1.000000</td>\n",
       "      <td>0.711978</td>\n",
       "      <td>0.749853</td>\n",
       "      <td>0.759583</td>\n",
       "      <td>-0.395995</td>\n",
       "      <td>0.143525</td>\n",
       "    </tr>\n",
       "    <tr>\n",
       "      <th>SO2</th>\n",
       "      <td>0.644378</td>\n",
       "      <td>0.697911</td>\n",
       "      <td>0.711978</td>\n",
       "      <td>1.000000</td>\n",
       "      <td>0.755983</td>\n",
       "      <td>0.650373</td>\n",
       "      <td>-0.481357</td>\n",
       "      <td>-0.107201</td>\n",
       "    </tr>\n",
       "    <tr>\n",
       "      <th>CO</th>\n",
       "      <td>0.637549</td>\n",
       "      <td>0.697550</td>\n",
       "      <td>0.749853</td>\n",
       "      <td>0.755983</td>\n",
       "      <td>1.000000</td>\n",
       "      <td>0.580166</td>\n",
       "      <td>-0.595712</td>\n",
       "      <td>0.016440</td>\n",
       "    </tr>\n",
       "    <tr>\n",
       "      <th>NO2</th>\n",
       "      <td>0.716363</td>\n",
       "      <td>0.805230</td>\n",
       "      <td>0.759583</td>\n",
       "      <td>0.650373</td>\n",
       "      <td>0.580166</td>\n",
       "      <td>1.000000</td>\n",
       "      <td>-0.487592</td>\n",
       "      <td>0.020807</td>\n",
       "    </tr>\n",
       "    <tr>\n",
       "      <th>O3</th>\n",
       "      <td>-0.199593</td>\n",
       "      <td>-0.440756</td>\n",
       "      <td>-0.395995</td>\n",
       "      <td>-0.481357</td>\n",
       "      <td>-0.595712</td>\n",
       "      <td>-0.487592</td>\n",
       "      <td>1.000000</td>\n",
       "      <td>0.354744</td>\n",
       "    </tr>\n",
       "    <tr>\n",
       "      <th>排名</th>\n",
       "      <td>0.282194</td>\n",
       "      <td>0.072403</td>\n",
       "      <td>0.143525</td>\n",
       "      <td>-0.107201</td>\n",
       "      <td>0.016440</td>\n",
       "      <td>0.020807</td>\n",
       "      <td>0.354744</td>\n",
       "      <td>1.000000</td>\n",
       "    </tr>\n",
       "  </tbody>\n",
       "</table>\n",
       "</div>"
      ],
      "text/plain": [
       "            AQI     PM2.5      PM10       SO2        CO       NO2        O3  \\\n",
       "AQI    1.000000  0.937052  0.870595  0.644378  0.637549  0.716363 -0.199593   \n",
       "PM2.5  0.937052  1.000000  0.897455  0.697911  0.697550  0.805230 -0.440756   \n",
       "PM10   0.870595  0.897455  1.000000  0.711978  0.749853  0.759583 -0.395995   \n",
       "SO2    0.644378  0.697911  0.711978  1.000000  0.755983  0.650373 -0.481357   \n",
       "CO     0.637549  0.697550  0.749853  0.755983  1.000000  0.580166 -0.595712   \n",
       "NO2    0.716363  0.805230  0.759583  0.650373  0.580166  1.000000 -0.487592   \n",
       "O3    -0.199593 -0.440756 -0.395995 -0.481357 -0.595712 -0.487592  1.000000   \n",
       "排名     0.282194  0.072403  0.143525 -0.107201  0.016440  0.020807  0.354744   \n",
       "\n",
       "             排名  \n",
       "AQI    0.282194  \n",
       "PM2.5  0.072403  \n",
       "PM10   0.143525  \n",
       "SO2   -0.107201  \n",
       "CO     0.016440  \n",
       "NO2    0.020807  \n",
       "O3     0.354744  \n",
       "排名     1.000000  "
      ]
     },
     "execution_count": 22,
     "metadata": {},
     "output_type": "execute_result"
    }
   ],
   "source": [
    "df.corr(method = 'pearson')\n",
    "#method：可选值为{‘pearson’, ‘kendall’, ‘spearman’}"
   ]
  },
  {
   "cell_type": "code",
   "execution_count": 25,
   "id": "aedb659e",
   "metadata": {},
   "outputs": [],
   "source": [
    "import seaborn as sns"
   ]
  },
  {
   "cell_type": "code",
   "execution_count": 32,
   "id": "cfb5d15c",
   "metadata": {},
   "outputs": [
    {
     "name": "stderr",
     "output_type": "stream",
     "text": [
      "D:\\Apps\\miniconda\\lib\\site-packages\\matplotlib\\backends\\backend_agg.py:240: RuntimeWarning: Glyph 25490 missing from current font.\n",
      "  font.set_text(s, 0.0, flags=flags)\n",
      "D:\\Apps\\miniconda\\lib\\site-packages\\matplotlib\\backends\\backend_agg.py:240: RuntimeWarning: Glyph 21517 missing from current font.\n",
      "  font.set_text(s, 0.0, flags=flags)\n",
      "D:\\Apps\\miniconda\\lib\\site-packages\\matplotlib\\backends\\backend_agg.py:203: RuntimeWarning: Glyph 25490 missing from current font.\n",
      "  font.set_text(s, 0, flags=flags)\n",
      "D:\\Apps\\miniconda\\lib\\site-packages\\matplotlib\\backends\\backend_agg.py:203: RuntimeWarning: Glyph 21517 missing from current font.\n",
      "  font.set_text(s, 0, flags=flags)\n"
     ]
    },
    {
     "data": {
      "text/plain": [
       "<AxesSubplot:>"
      ]
     },
     "execution_count": 32,
     "metadata": {},
     "output_type": "execute_result"
    },
    {
     "data": {
      "image/png": "[encoded data removed]",
      "text/plain": [
       "<Figure size 432x288 with 2 Axes>"
      ]
     },
     "metadata": {
      "needs_background": "light"
     },
     "output_type": "display_data"
    }
   ],
   "source": [
    "sns.heatmap(df.corr(method = 'pearson'),center= 0 ,cmap='ocean')"
   ]
  },
  {
   "cell_type": "code",
   "execution_count": 31,
   "id": "96030737",
   "metadata": {},
   "outputs": [
    {
     "data": {
      "text/plain": [
       "<AxesSubplot:>"
      ]
     },
     "execution_count": 31,
     "metadata": {},
     "output_type": "execute_result"
    },
    {
     "data": {
      "image/png": "[encoded data removed]",
      "text/plain": [
       "<Figure size 432x288 with 2 Axes>"
      ]
     },
     "metadata": {
      "needs_background": "light"
     },
     "output_type": "display_data"
    }
   ],
   "source": [
    "sns.heatmap(df.corr(method = 'spearman'),center= 0 ,cmap='ocean')"
   ]
  },
  {
   "cell_type": "code",
   "execution_count": 81,
   "id": "994f0a01",
   "metadata": {},
   "outputs": [
    {
     "data": {
      "text/plain": [
       "KstestResult(statistic=0.11784810562144171, pvalue=0.00014297515936225545)"
      ]
     },
     "execution_count": 81,
     "metadata": {},
     "output_type": "execute_result"
    }
   ],
   "source": [
    "stats.kstest(df['PM2.5'],'norm',(df['PM2.5'].mean(),df['PM2.5'].std()))\n",
    "# P值大0.05 服从指定的正态分布"
   ]
  },
  {
   "cell_type": "code",
   "execution_count": 62,
   "id": "177c85a6",
   "metadata": {},
   "outputs": [],
   "source": [
    "test = np.random.random(100)"
   ]
  },
  {
   "cell_type": "code",
   "execution_count": 64,
   "id": "b4ba7f1f",
   "metadata": {},
   "outputs": [
    {
     "data": {
      "text/plain": [
       "KstestResult(statistic=0.10209917149218384, pvalue=0.2318673827520853)"
      ]
     },
     "execution_count": 64,
     "metadata": {},
     "output_type": "execute_result"
    }
   ],
   "source": [
    "stats.kstest(test,'norm',(test.mean(),test.std()))"
   ]
  },
  {
   "cell_type": "code",
   "execution_count": null,
   "id": "98c7a947",
   "metadata": {},
   "outputs": [],
   "source": []
  }
 ],
 "metadata": {
  "kernelspec": {
   "display_name": "Python 3 (ipykernel)",
   "language": "python",
   "name": "python3"
  },
  "language_info": {
   "codemirror_mode": {
    "name": "ipython",
    "version": 3
   },
   "file_extension": ".py",
   "mimetype": "text/x-python",
   "name": "python",
   "nbconvert_exporter": "python",
   "pygments_lexer": "ipython3",
   "version": "3.9.5"
  },
  "toc": {
   "base_numbering": 1,
   "nav_menu": {},
   "number_sections": true,
   "sideBar": true,
   "skip_h1_title": false,
   "title_cell": "Table of Contents",
   "title_sidebar": "Contents",
   "toc_cell": false,
   "toc_position": {},
   "toc_section_display": true,
   "toc_window_display": false
  }
 },
 "nbformat": 4,
 "nbformat_minor": 5
}
